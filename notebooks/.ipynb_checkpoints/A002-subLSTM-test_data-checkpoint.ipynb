{
 "cells": [
  {
   "cell_type": "markdown",
   "metadata": {},
   "source": [
    "# subLSTM test"
   ]
  },
  {
   "cell_type": "code",
   "execution_count": 1,
   "metadata": {},
   "outputs": [],
   "source": [
    "%load_ext autoreload\n",
    "%autoreload 2\n",
    "%matplotlib inline\n",
    "\n",
    "import numpy as np\n",
    "import matplotlib\n",
    "import matplotlib.pyplot as plt\n",
    "from sklearn import datasets\n",
    "from sklearn.model_selection import train_test_split\n",
    "from sklearn.preprocessing import OneHotEncoder\n",
    "import sys\n",
    "\n",
    "sys.path.append('../models/')\n",
    "from subLSTM import *\n",
    "\n",
    "sys.path.append('../src/common/')\n",
    "from helper import *"
   ]
  },
  {
   "cell_type": "markdown",
   "metadata": {},
   "source": [
    "Placeholder and initializers"
   ]
  },
  {
   "cell_type": "code",
   "execution_count": 32,
   "metadata": {
    "collapsed": true
   },
   "outputs": [],
   "source": [
    "hidden_layer_size = 100\n",
    "target_size = 10\n",
    "training_steps = 1000\n",
    "batch_size = 50\n",
    "time_steps = 784\n",
    "n_classes = 10"
   ]
  },
  {
   "cell_type": "code",
   "execution_count": 18,
   "metadata": {
    "collapsed": true
   },
   "outputs": [],
   "source": [
    "#input image placeholder\n",
    "X = tf.placeholder(tf.float32, [None, time_steps])\n",
    "#input label placeholder\n",
    "Y = tf.placeholder(tf.float32, [None, n_classes])"
   ]
  },
  {
   "cell_type": "markdown",
   "metadata": {},
   "source": [
    "Models"
   ]
  },
  {
   "cell_type": "code",
   "execution_count": 19,
   "metadata": {},
   "outputs": [],
   "source": [
    "# Initializing rnn object\n",
    "rnn = subLSTM_cell(time_steps, hidden_layer_size, target_size)\n",
    "\n",
    "# Getting all outputs from rnn\n",
    "outputs = rnn.get_outputs()\n",
    "\n",
    "# Getting final output through indexing after reversing\n",
    "last_output = outputs[-1]\n",
    "\n",
    "# As rnn model output the final layer through Relu activation softmax is\n",
    "# used for final output\n",
    "output = tf.nn.softmax(last_output)\n",
    "\n",
    "# Computing the Cross Entropy loss\n",
    "cross_entropy = -tf.reduce_sum(y * tf.log(output))\n",
    "\n",
    "# Trainning with RMSProp Optimizer\n",
    "train_step = tf.train.RMSPropOptimizer(1e-4).minimize(cross_entropy)\n",
    "\n",
    "# Calculation of correct prediction and accuracy\n",
    "correct_prediction = tf.equal(tf.argmax(y, 1), tf.argmax(output, 1))\n",
    "accuracy = (tf.reduce_mean(tf.cast(correct_prediction, tf.float32))) * 100"
   ]
  },
  {
   "cell_type": "markdown",
   "metadata": {},
   "source": [
    "Load dataset"
   ]
  },
  {
   "cell_type": "code",
   "execution_count": 15,
   "metadata": {
    "scrolled": true
   },
   "outputs": [
    {
     "name": "stdout",
     "output_type": "stream",
     "text": [
      "Extracting MNIST_data/train-images-idx3-ubyte.gz\n",
      "Extracting MNIST_data/train-labels-idx1-ubyte.gz\n",
      "Extracting MNIST_data/t10k-images-idx3-ubyte.gz\n",
      "Extracting MNIST_data/t10k-labels-idx1-ubyte.gz\n"
     ]
    }
   ],
   "source": [
    "from tensorflow.examples.tutorials.mnist import input_data\n",
    "mnist = input_data.read_data_sets(\"MNIST_data/\", one_hot=True)"
   ]
  },
  {
   "cell_type": "markdown",
   "metadata": {},
   "source": [
    "Training"
   ]
  },
  {
   "cell_type": "code",
   "execution_count": 8,
   "metadata": {},
   "outputs": [
    {
     "name": "stdout",
     "output_type": "stream",
     "text": [
      "(50, 784) (50, 10)\n"
     ]
    },
    {
     "ename": "NameError",
     "evalue": "name 'opt' is not defined",
     "output_type": "error",
     "traceback": [
      "\u001b[0;31m---------------------------------------------------------------------------\u001b[0m",
      "\u001b[0;31mNameError\u001b[0m                                 Traceback (most recent call last)",
      "\u001b[0;32m<ipython-input-8-c01a4eef60a7>\u001b[0m in \u001b[0;36m<module>\u001b[0;34m()\u001b[0m\n\u001b[1;32m      8\u001b[0m         \u001b[0mprint\u001b[0m\u001b[0;34m(\u001b[0m\u001b[0mbatch\u001b[0m\u001b[0;34m[\u001b[0m\u001b[0;36m0\u001b[0m\u001b[0;34m]\u001b[0m\u001b[0;34m.\u001b[0m\u001b[0mshape\u001b[0m\u001b[0;34m,\u001b[0m \u001b[0mbatch\u001b[0m\u001b[0;34m[\u001b[0m\u001b[0;36m1\u001b[0m\u001b[0;34m]\u001b[0m\u001b[0;34m.\u001b[0m\u001b[0mshape\u001b[0m\u001b[0;34m)\u001b[0m\u001b[0;34m\u001b[0m\u001b[0m\n\u001b[1;32m      9\u001b[0m \u001b[0;34m\u001b[0m\u001b[0m\n\u001b[0;32m---> 10\u001b[0;31m         sess.run(opt, feed_dict={x: batch[0], \n\u001b[0m\u001b[1;32m     11\u001b[0m                                  y: batch[1]})\n\u001b[1;32m     12\u001b[0m \u001b[0;34m\u001b[0m\u001b[0m\n",
      "\u001b[0;31mNameError\u001b[0m: name 'opt' is not defined"
     ]
    }
   ],
   "source": [
    "#initialize variables\n",
    "init=tf.global_variables_initializer()\n",
    "with tf.Session() as sess:\n",
    "    for i in range(20000):\n",
    "        #batch_x, batch_y = mnist.train.next_batch(batch_size=batch_size)\n",
    "        batch = mnist.train.next_batch(50)\n",
    "        \n",
    "        print(batch[0].shape, batch[1].shape)\n",
    "                \n",
    "        sess.run(opt, feed_dict={x: batch[0], \n",
    "                                 y: batch[1]})\n",
    "\n",
    "        if i %10==0:\n",
    "            acc=sess.run(accuracy,feed_dict={x:batch_x,y:batch_y})\n",
    "            los=sess.run(loss,feed_dict={x:batch_x,y:batch_y})\n",
    "            print(\"For iter \",iter)\n",
    "            print(\"Accuracy \",acc)\n",
    "            print(\"Loss \",los)\n",
    "            print(\"__________________\")\n",
    "\n",
    "        train_step.run(feed_dict={x: batch[0], y_: batch[1], keep_prob: 0.5})"
   ]
  },
  {
   "cell_type": "code",
   "execution_count": 34,
   "metadata": {},
   "outputs": [
    {
     "name": "stdout",
     "output_type": "stream",
     "text": [
      "Iteration: 0 Loss: 115.127 Train Accuracy: 12.0 Test Accuracy: 10.28\n",
      "Iteration: 100 Loss: 114.869 Train Accuracy: 32.0 Test Accuracy: 29.47\n",
      "Iteration: 200 Loss: 110.978 Train Accuracy: 52.0 Test Accuracy: 31.5\n",
      "Iteration: 300 Loss: 108.515 Train Accuracy: 40.0 Test Accuracy: 35.94\n",
      "Iteration: 400 Loss: 103.137 Train Accuracy: 40.0 Test Accuracy: 37.97\n",
      "Iteration: 500 Loss: 96.1345 Train Accuracy: 44.0 Test Accuracy: 38.92\n",
      "Iteration: 600 Loss: 83.0607 Train Accuracy: 52.0 Test Accuracy: 39.64\n",
      "Iteration: 700 Loss: 85.9471 Train Accuracy: 48.0 Test Accuracy: 40.41\n",
      "Iteration: 800 Loss: 80.5137 Train Accuracy: 48.0 Test Accuracy: 41.85\n",
      "Iteration: 900 Loss: 88.2158 Train Accuracy: 40.0 Test Accuracy: 44.6\n",
      "Iteration: 1000 Loss: 67.1329 Train Accuracy: 50.0 Test Accuracy: 47.56\n",
      "Iteration: 1100 Loss: 75.3268 Train Accuracy: 54.0 Test Accuracy: 51.54\n",
      "Iteration: 1200 Loss: 73.0055 Train Accuracy: 58.0 Test Accuracy: 56.87\n",
      "Iteration: 1300 Loss: 63.4387 Train Accuracy: 60.0 Test Accuracy: 60.45\n",
      "Iteration: 1400 Loss: 79.1066 Train Accuracy: 54.0 Test Accuracy: 61.65\n",
      "Iteration: 1500 Loss: 59.9192 Train Accuracy: 70.0 Test Accuracy: 62.46\n",
      "Iteration: 1600 Loss: 59.5823 Train Accuracy: 72.0 Test Accuracy: 62.93\n",
      "Iteration: 1700 Loss: 64.9723 Train Accuracy: 66.0 Test Accuracy: 63.39\n",
      "Iteration: 1800 Loss: 64.6549 Train Accuracy: 66.0 Test Accuracy: 63.6\n",
      "Iteration: 1900 Loss: 60.7891 Train Accuracy: 60.0 Test Accuracy: 64.05\n",
      "Iteration: 2000 Loss: 43.3772 Train Accuracy: 74.0 Test Accuracy: 65.86\n",
      "Iteration: 2100 Loss: 37.8444 Train Accuracy: 82.0 Test Accuracy: 68.37\n",
      "Iteration: 2200 Loss: 45.2031 Train Accuracy: 74.0 Test Accuracy: 70.38\n",
      "Iteration: 2300 Loss: 65.7805 Train Accuracy: 56.0 Test Accuracy: 71.39\n",
      "Iteration: 2400 Loss: 43.4683 Train Accuracy: 76.0 Test Accuracy: 72.03\n",
      "Iteration: 2500 Loss: 45.1311 Train Accuracy: 74.0 Test Accuracy: 72.51\n",
      "Iteration: 2600 Loss: 40.5434 Train Accuracy: 74.0 Test Accuracy: 72.92\n",
      "Iteration: 2700 Loss: 41.2745 Train Accuracy: 78.0 Test Accuracy: 73.25\n",
      "Iteration: 2800 Loss: 50.649 Train Accuracy: 70.0 Test Accuracy: 73.43\n",
      "Iteration: 2900 Loss: 46.2091 Train Accuracy: 76.0 Test Accuracy: 73.45\n",
      "Iteration: 3000 Loss: 41.0027 Train Accuracy: 72.0 Test Accuracy: 73.58\n",
      "Iteration: 3100 Loss: 45.1477 Train Accuracy: 70.0 Test Accuracy: 73.74\n",
      "Iteration: 3200 Loss: 55.0964 Train Accuracy: 64.0 Test Accuracy: 73.82\n",
      "Iteration: 3300 Loss: 47.8086 Train Accuracy: 68.0 Test Accuracy: 73.9\n",
      "Iteration: 3400 Loss: 46.7565 Train Accuracy: 68.0 Test Accuracy: 73.99\n",
      "Iteration: 3500 Loss: 41.7192 Train Accuracy: 74.0 Test Accuracy: 74.13\n",
      "Iteration: 3600 Loss: 40.9213 Train Accuracy: 72.0 Test Accuracy: 74.15\n",
      "Iteration: 3700 Loss: 44.4308 Train Accuracy: 72.0 Test Accuracy: 74.19\n",
      "Iteration: 3800 Loss: 37.2756 Train Accuracy: 76.0 Test Accuracy: 74.3\n",
      "Iteration: 3900 Loss: 24.5498 Train Accuracy: 88.0 Test Accuracy: 74.27\n",
      "Iteration: 4000 Loss: 36.9611 Train Accuracy: 74.0 Test Accuracy: 74.33\n",
      "Iteration: 4100 Loss: 57.1433 Train Accuracy: 62.0 Test Accuracy: 74.38\n",
      "Iteration: 4200 Loss: 24.0203 Train Accuracy: 84.0 Test Accuracy: 74.41\n",
      "Iteration: 4300 Loss: 28.4182 Train Accuracy: 80.0 Test Accuracy: 74.52\n",
      "Iteration: 4400 Loss: 36.1371 Train Accuracy: 74.0 Test Accuracy: 74.51\n",
      "Iteration: 4500 Loss: 31.8122 Train Accuracy: 78.0 Test Accuracy: 74.56\n",
      "Iteration: 4600 Loss: 36.6 Train Accuracy: 76.0 Test Accuracy: 74.65\n",
      "Iteration: 4700 Loss: 36.4403 Train Accuracy: 76.0 Test Accuracy: 74.75\n",
      "Iteration: 4800 Loss: 50.3354 Train Accuracy: 66.0 Test Accuracy: 74.76\n",
      "Iteration: 4900 Loss: 38.8478 Train Accuracy: 70.0 Test Accuracy: 74.83\n",
      "Iteration: 5000 Loss: 27.2735 Train Accuracy: 84.0 Test Accuracy: 74.8\n",
      "Iteration: 5100 Loss: 53.7108 Train Accuracy: 68.0 Test Accuracy: 74.89\n",
      "Iteration: 5200 Loss: 39.2753 Train Accuracy: 74.0 Test Accuracy: 74.93\n",
      "Iteration: 5300 Loss: 42.5511 Train Accuracy: 72.0 Test Accuracy: 74.91\n",
      "Iteration: 5400 Loss: 49.8696 Train Accuracy: 68.0 Test Accuracy: 74.94\n",
      "Iteration: 5500 Loss: 27.1018 Train Accuracy: 82.0 Test Accuracy: 74.96\n",
      "Iteration: 5600 Loss: 32.1903 Train Accuracy: 76.0 Test Accuracy: 74.94\n",
      "Iteration: 5700 Loss: 42.1886 Train Accuracy: 72.0 Test Accuracy: 74.89\n",
      "Iteration: 5800 Loss: 35.4317 Train Accuracy: 74.0 Test Accuracy: 75.0\n",
      "Iteration: 5900 Loss: 32.3271 Train Accuracy: 78.0 Test Accuracy: 75.03\n",
      "Iteration: 6000 Loss: 37.098 Train Accuracy: 70.0 Test Accuracy: 75.11\n",
      "Iteration: 6100 Loss: 37.287 Train Accuracy: 72.0 Test Accuracy: 75.2\n",
      "Iteration: 6200 Loss: 26.6287 Train Accuracy: 82.0 Test Accuracy: 75.15\n",
      "Iteration: 6300 Loss: 46.0847 Train Accuracy: 66.0 Test Accuracy: 75.16\n",
      "Iteration: 6400 Loss: 43.4671 Train Accuracy: 72.0 Test Accuracy: 75.22\n",
      "Iteration: 6500 Loss: 26.6616 Train Accuracy: 82.0 Test Accuracy: 75.17\n",
      "Iteration: 6600 Loss: 38.5146 Train Accuracy: 74.0 Test Accuracy: 75.19\n",
      "Iteration: 6700 Loss: 32.7805 Train Accuracy: 74.0 Test Accuracy: 75.22\n",
      "Iteration: 6800 Loss: 39.7237 Train Accuracy: 70.0 Test Accuracy: 75.31\n",
      "Iteration: 6900 Loss: 44.5472 Train Accuracy: 74.0 Test Accuracy: 75.25\n",
      "Iteration: 7000 Loss: 34.0798 Train Accuracy: 78.0 Test Accuracy: 75.27\n",
      "Iteration: 7100 Loss: 38.2157 Train Accuracy: 74.0 Test Accuracy: 75.26\n",
      "Iteration: 7200 Loss: 29.9291 Train Accuracy: 80.0 Test Accuracy: 75.39\n",
      "Iteration: 7300 Loss: 45.0457 Train Accuracy: 66.0 Test Accuracy: 75.42\n",
      "Iteration: 7400 Loss: 45.4008 Train Accuracy: 68.0 Test Accuracy: 75.43\n",
      "Iteration: 7500 Loss: 38.321 Train Accuracy: 76.0 Test Accuracy: 75.47\n",
      "Iteration: 7600 Loss: 46.2536 Train Accuracy: 68.0 Test Accuracy: 75.47\n",
      "Iteration: 7700 Loss: 47.6354 Train Accuracy: 68.0 Test Accuracy: 75.43\n",
      "Iteration: 7800 Loss: 43.1376 Train Accuracy: 70.0 Test Accuracy: 75.49\n",
      "Iteration: 7900 Loss: 36.2041 Train Accuracy: 76.0 Test Accuracy: 75.46\n",
      "Iteration: 8000 Loss: 38.9861 Train Accuracy: 74.0 Test Accuracy: 75.48\n",
      "Iteration: 8100 Loss: 25.3979 Train Accuracy: 84.0 Test Accuracy: 75.47\n",
      "Iteration: 8200 Loss: 31.8084 Train Accuracy: 76.0 Test Accuracy: 75.46\n",
      "Iteration: 8300 Loss: 38.513 Train Accuracy: 70.0 Test Accuracy: 75.53\n",
      "Iteration: 8400 Loss: 21.5658 Train Accuracy: 88.0 Test Accuracy: 75.57\n",
      "Iteration: 8500 Loss: 26.6709 Train Accuracy: 84.0 Test Accuracy: 75.53\n",
      "Iteration: 8600 Loss: 26.6935 Train Accuracy: 84.0 Test Accuracy: 75.6\n",
      "Iteration: 8700 Loss: 25.2998 Train Accuracy: 84.0 Test Accuracy: 75.54\n",
      "Iteration: 8800 Loss: 34.6602 Train Accuracy: 74.0 Test Accuracy: 75.59\n",
      "Iteration: 8900 Loss: 38.0557 Train Accuracy: 70.0 Test Accuracy: 75.61\n",
      "Iteration: 9000 Loss: 23.6214 Train Accuracy: 84.0 Test Accuracy: 75.67\n",
      "Iteration: 9100 Loss: 48.4192 Train Accuracy: 70.0 Test Accuracy: 75.63\n",
      "Iteration: 9200 Loss: 31.6349 Train Accuracy: 78.0 Test Accuracy: 75.62\n",
      "Iteration: 9300 Loss: 37.9264 Train Accuracy: 72.0 Test Accuracy: 75.65\n",
      "Iteration: 9400 Loss: 25.0199 Train Accuracy: 80.0 Test Accuracy: 75.69\n",
      "Iteration: 9500 Loss: 33.5734 Train Accuracy: 76.0 Test Accuracy: 75.71\n",
      "Iteration: 9600 Loss: 29.7578 Train Accuracy: 78.0 Test Accuracy: 75.74\n",
      "Iteration: 9700 Loss: 35.8535 Train Accuracy: 70.0 Test Accuracy: 75.73\n",
      "Iteration: 9800 Loss: 13.3455 Train Accuracy: 92.0 Test Accuracy: 75.8\n",
      "Iteration: 9900 Loss: 30.0954 Train Accuracy: 76.0 Test Accuracy: 75.79\n",
      "Iteration: 10000 Loss: 34.9221 Train Accuracy: 76.0 Test Accuracy: 75.74\n",
      "Iteration: 10100 Loss: 45.477 Train Accuracy: 64.0 Test Accuracy: 75.69\n",
      "Iteration: 10200 Loss: 13.5237 Train Accuracy: 92.0 Test Accuracy: 75.83\n",
      "Iteration: 10300 Loss: 29.1307 Train Accuracy: 78.0 Test Accuracy: 75.78\n",
      "Iteration: 10400 Loss: 44.6193 Train Accuracy: 66.0 Test Accuracy: 75.85\n",
      "Iteration: 10500 Loss: 35.5115 Train Accuracy: 76.0 Test Accuracy: 75.86\n",
      "Iteration: 10600 Loss: 31.0729 Train Accuracy: 80.0 Test Accuracy: 75.83\n",
      "Iteration: 10700 Loss: 31.1995 Train Accuracy: 76.0 Test Accuracy: 75.89\n",
      "Iteration: 10800 Loss: 27.4418 Train Accuracy: 80.0 Test Accuracy: 75.86\n",
      "Iteration: 10900 Loss: 32.3528 Train Accuracy: 80.0 Test Accuracy: 75.86\n",
      "Iteration: 11000 Loss: 18.2038 Train Accuracy: 90.0 Test Accuracy: 75.9\n",
      "Iteration: 11100 Loss: 43.3277 Train Accuracy: 66.0 Test Accuracy: 75.89\n",
      "Iteration: 11200 Loss: 36.1657 Train Accuracy: 76.0 Test Accuracy: 75.9\n",
      "Iteration: 11300 Loss: 36.3853 Train Accuracy: 74.0 Test Accuracy: 75.91\n",
      "Iteration: 11400 Loss: 40.796 Train Accuracy: 68.0 Test Accuracy: 75.87\n",
      "Iteration: 11500 Loss: 24.7956 Train Accuracy: 82.0 Test Accuracy: 75.94\n",
      "Iteration: 11600 Loss: 42.031 Train Accuracy: 68.0 Test Accuracy: 75.87\n",
      "Iteration: 11700 Loss: 31.5423 Train Accuracy: 78.0 Test Accuracy: 75.95\n",
      "Iteration: 11800 Loss: 36.2218 Train Accuracy: 72.0 Test Accuracy: 75.9\n",
      "Iteration: 11900 Loss: 28.0868 Train Accuracy: 80.0 Test Accuracy: 75.97\n",
      "Iteration: 12000 Loss: 31.6225 Train Accuracy: 76.0 Test Accuracy: 75.95\n",
      "Iteration: 12100 Loss: 31.8008 Train Accuracy: 78.0 Test Accuracy: 76.03\n",
      "Iteration: 12200 Loss: 14.9147 Train Accuracy: 92.0 Test Accuracy: 75.97\n",
      "Iteration: 12300 Loss: 43.3566 Train Accuracy: 70.0 Test Accuracy: 75.99\n",
      "Iteration: 12400 Loss: 25.6526 Train Accuracy: 80.0 Test Accuracy: 75.96\n",
      "Iteration: 12500 Loss: 29.1499 Train Accuracy: 82.0 Test Accuracy: 76.01\n",
      "Iteration: 12600 Loss: 27.6106 Train Accuracy: 80.0 Test Accuracy: 75.96\n",
      "Iteration: 12700 Loss: 37.7999 Train Accuracy: 70.0 Test Accuracy: 76.02\n",
      "Iteration: 12800 Loss: 27.5796 Train Accuracy: 78.0 Test Accuracy: 75.99\n",
      "Iteration: 12900 Loss: 43.4319 Train Accuracy: 70.0 Test Accuracy: 76.01\n",
      "Iteration: 13000 Loss: 26.487 Train Accuracy: 82.0 Test Accuracy: 76.06\n",
      "Iteration: 13100 Loss: 28.7365 Train Accuracy: 76.0 Test Accuracy: 76.07\n",
      "Iteration: 13200 Loss: 41.9036 Train Accuracy: 66.0 Test Accuracy: 76.06\n",
      "Iteration: 13300 Loss: 28.5379 Train Accuracy: 80.0 Test Accuracy: 76.09\n",
      "Iteration: 13400 Loss: 35.1981 Train Accuracy: 70.0 Test Accuracy: 76.09\n",
      "Iteration: 13500 Loss: 42.182 Train Accuracy: 66.0 Test Accuracy: 76.07\n",
      "Iteration: 13600 Loss: 30.591 Train Accuracy: 78.0 Test Accuracy: 76.09\n",
      "Iteration: 13700 Loss: 16.5196 Train Accuracy: 88.0 Test Accuracy: 76.11\n",
      "Iteration: 13800 Loss: 31.9773 Train Accuracy: 74.0 Test Accuracy: 76.17\n",
      "Iteration: 13900 Loss: 31.8156 Train Accuracy: 78.0 Test Accuracy: 76.16\n",
      "Iteration: 14000 Loss: 29.0422 Train Accuracy: 78.0 Test Accuracy: 76.15\n",
      "Iteration: 14100 Loss: 15.8033 Train Accuracy: 88.0 Test Accuracy: 76.13\n",
      "Iteration: 14200 Loss: 41.1592 Train Accuracy: 72.0 Test Accuracy: 76.14\n",
      "Iteration: 14300 Loss: 36.9876 Train Accuracy: 72.0 Test Accuracy: 76.17\n",
      "Iteration: 14400 Loss: 52.6819 Train Accuracy: 60.0 Test Accuracy: 76.14\n",
      "Iteration: 14500 Loss: 22.6158 Train Accuracy: 84.0 Test Accuracy: 76.15\n",
      "Iteration: 14600 Loss: 32.1028 Train Accuracy: 78.0 Test Accuracy: 76.15\n",
      "Iteration: 14700 Loss: 28.3804 Train Accuracy: 76.0 Test Accuracy: 76.21\n",
      "Iteration: 14800 Loss: 26.7921 Train Accuracy: 82.0 Test Accuracy: 76.23\n",
      "Iteration: 14900 Loss: 31.5475 Train Accuracy: 76.0 Test Accuracy: 76.29\n",
      "Iteration: 15000 Loss: 18.8461 Train Accuracy: 86.0 Test Accuracy: 76.27\n",
      "Iteration: 15100 Loss: 28.5869 Train Accuracy: 78.0 Test Accuracy: 76.2\n",
      "Iteration: 15200 Loss: 27.8267 Train Accuracy: 80.0 Test Accuracy: 76.23\n",
      "Iteration: 15300 Loss: 40.1337 Train Accuracy: 70.0 Test Accuracy: 76.2\n",
      "Iteration: 15400 Loss: 26.9055 Train Accuracy: 82.0 Test Accuracy: 76.29\n",
      "Iteration: 15500 Loss: 26.4112 Train Accuracy: 84.0 Test Accuracy: 76.25\n",
      "Iteration: 15600 Loss: 21.9359 Train Accuracy: 84.0 Test Accuracy: 76.25\n",
      "Iteration: 15700 Loss: 41.4442 Train Accuracy: 68.0 Test Accuracy: 76.31\n",
      "Iteration: 15800 Loss: 38.8841 Train Accuracy: 70.0 Test Accuracy: 76.32\n",
      "Iteration: 15900 Loss: 33.524 Train Accuracy: 74.0 Test Accuracy: 76.31\n",
      "Iteration: 16000 Loss: 35.2311 Train Accuracy: 72.0 Test Accuracy: 76.26\n",
      "Iteration: 16100 Loss: 37.57 Train Accuracy: 74.0 Test Accuracy: 76.3\n",
      "Iteration: 16200 Loss: 14.7723 Train Accuracy: 90.0 Test Accuracy: 76.33\n",
      "Iteration: 16300 Loss: 26.2763 Train Accuracy: 82.0 Test Accuracy: 76.4\n",
      "Iteration: 16400 Loss: 39.1069 Train Accuracy: 70.0 Test Accuracy: 76.3\n",
      "Iteration: 16500 Loss: 22.421 Train Accuracy: 88.0 Test Accuracy: 76.35\n",
      "Iteration: 16600 Loss: 26.6712 Train Accuracy: 84.0 Test Accuracy: 76.32\n",
      "Iteration: 16700 Loss: 30.8172 Train Accuracy: 74.0 Test Accuracy: 76.37\n",
      "Iteration: 16800 Loss: 29.8514 Train Accuracy: 76.0 Test Accuracy: 76.29\n",
      "Iteration: 16900 Loss: 30.8438 Train Accuracy: 76.0 Test Accuracy: 76.41\n",
      "Iteration: 17000 Loss: 35.7707 Train Accuracy: 76.0 Test Accuracy: 76.45\n",
      "Iteration: 17100 Loss: 28.0133 Train Accuracy: 78.0 Test Accuracy: 76.44\n",
      "Iteration: 17200 Loss: 38.2359 Train Accuracy: 70.0 Test Accuracy: 76.44\n",
      "Iteration: 17300 Loss: 26.3115 Train Accuracy: 82.0 Test Accuracy: 76.43\n",
      "Iteration: 17400 Loss: 29.5382 Train Accuracy: 80.0 Test Accuracy: 76.37\n",
      "Iteration: 17500 Loss: 45.609 Train Accuracy: 68.0 Test Accuracy: 76.4\n",
      "Iteration: 17600 Loss: 31.7359 Train Accuracy: 80.0 Test Accuracy: 76.42\n",
      "Iteration: 17700 Loss: 27.7972 Train Accuracy: 78.0 Test Accuracy: 76.46\n",
      "Iteration: 17800 Loss: 30.1636 Train Accuracy: 76.0 Test Accuracy: 76.42\n",
      "Iteration: 17900 Loss: 37.3143 Train Accuracy: 70.0 Test Accuracy: 76.44\n",
      "Iteration: 18000 Loss: 35.3536 Train Accuracy: 74.0 Test Accuracy: 76.46\n",
      "Iteration: 18100 Loss: 20.6434 Train Accuracy: 84.0 Test Accuracy: 76.49\n",
      "Iteration: 18200 Loss: 34.5158 Train Accuracy: 76.0 Test Accuracy: 76.48\n",
      "Iteration: 18300 Loss: 29.3378 Train Accuracy: 76.0 Test Accuracy: 76.46\n",
      "Iteration: 18400 Loss: 25.6438 Train Accuracy: 84.0 Test Accuracy: 76.5\n",
      "Iteration: 18500 Loss: 29.2555 Train Accuracy: 76.0 Test Accuracy: 76.48\n",
      "Iteration: 18600 Loss: 32.6808 Train Accuracy: 78.0 Test Accuracy: 76.54\n",
      "Iteration: 18700 Loss: 26.1414 Train Accuracy: 82.0 Test Accuracy: 76.49\n",
      "Iteration: 18800 Loss: 26.6934 Train Accuracy: 80.0 Test Accuracy: 76.5\n",
      "Iteration: 18900 Loss: 31.4306 Train Accuracy: 76.0 Test Accuracy: 76.47\n",
      "Iteration: 19000 Loss: 35.9848 Train Accuracy: 74.0 Test Accuracy: 76.55\n",
      "Iteration: 19100 Loss: 35.9036 Train Accuracy: 76.0 Test Accuracy: 76.53\n",
      "Iteration: 19200 Loss: 19.6816 Train Accuracy: 86.0 Test Accuracy: 76.57\n",
      "Iteration: 19300 Loss: 34.7041 Train Accuracy: 74.0 Test Accuracy: 76.54\n",
      "Iteration: 19400 Loss: 18.8347 Train Accuracy: 84.0 Test Accuracy: 76.59\n",
      "Iteration: 19500 Loss: 25.3815 Train Accuracy: 82.0 Test Accuracy: 76.57\n",
      "Iteration: 19600 Loss: 32.7624 Train Accuracy: 76.0 Test Accuracy: 76.62\n",
      "Iteration: 19700 Loss: 30.4804 Train Accuracy: 76.0 Test Accuracy: 76.64\n",
      "Iteration: 19800 Loss: 19.2268 Train Accuracy: 86.0 Test Accuracy: 76.59\n",
      "Iteration: 19900 Loss: 22.2129 Train Accuracy: 88.0 Test Accuracy: 76.62\n"
     ]
    }
   ],
   "source": [
    "sess = tf.InteractiveSession()\n",
    "sess.run(tf.global_variables_initializer())\n",
    "\n",
    "n_epoch = 20000\n",
    "losses = np.empty(n_epoch)\n",
    "train_accuracies = np.empty(n_epoch)\n",
    "test_accuracies = np.empty(n_epoch)\n",
    "\n",
    "#Iterations to do trainning\n",
    "for epoch in range(n_epoch):\n",
    "\n",
    "    X, Y = mnist.train.next_batch(batch_size)\n",
    "    X = X.reshape(batch_size, 1, 784)\n",
    "    sess.run(train_step,feed_dict={rnn._inputs:X, y:Y})\n",
    "\n",
    "    if epoch%100 == 0:\n",
    "        Loss=str(sess.run(cross_entropy,feed_dict={rnn._inputs:X, y:Y}))\n",
    "        Train_accuracy=str(sess.run(accuracy,feed_dict={rnn._inputs:X, y:Y}))\n",
    "        X_test = mnist.test.images.reshape(10000,1,784)\n",
    "        Test_accuracy=str(sess.run(accuracy,feed_dict={rnn._inputs:X_test, y:mnist.test.labels}))\n",
    "    \n",
    "        losses[epoch] = Loss\n",
    "        train_accuracies[epoch] = Train_accuracy\n",
    "        test_accuracies[epoch] = Test_accuracy\n",
    "    \n",
    "        print(\"\\rIteration: %s Loss: %s Train Accuracy: %s Test Accuracy: %s\"%(epoch,Loss,Train_accuracy,Test_accuracy)),"
   ]
  },
  {
   "cell_type": "code",
   "execution_count": 6,
   "metadata": {
    "scrolled": true
   },
   "outputs": [
    {
     "ename": "NameError",
     "evalue": "name 'X_train' is not defined",
     "output_type": "error",
     "traceback": [
      "\u001b[0;31m---------------------------------------------------------------------------\u001b[0m",
      "\u001b[0;31mNameError\u001b[0m                                 Traceback (most recent call last)",
      "\u001b[0;32m<ipython-input-6-97dc1af2996c>\u001b[0m in \u001b[0;36m<module>\u001b[0;34m()\u001b[0m\n\u001b[1;32m     15\u001b[0m \u001b[0;34m\u001b[0m\u001b[0m\n\u001b[1;32m     16\u001b[0m \u001b[0;34m\u001b[0m\u001b[0m\n\u001b[0;32m---> 17\u001b[0;31m         \u001b[0mX\u001b[0m\u001b[0;34m=\u001b[0m\u001b[0mX_train\u001b[0m\u001b[0;34m[\u001b[0m\u001b[0mstart\u001b[0m\u001b[0;34m:\u001b[0m\u001b[0mend\u001b[0m\u001b[0;34m]\u001b[0m\u001b[0;34m\u001b[0m\u001b[0m\n\u001b[0m\u001b[1;32m     18\u001b[0m         \u001b[0mY\u001b[0m\u001b[0;34m=\u001b[0m\u001b[0my_train\u001b[0m\u001b[0;34m[\u001b[0m\u001b[0mstart\u001b[0m\u001b[0;34m:\u001b[0m\u001b[0mend\u001b[0m\u001b[0;34m]\u001b[0m\u001b[0;34m\u001b[0m\u001b[0m\n\u001b[1;32m     19\u001b[0m         \u001b[0mstart\u001b[0m\u001b[0;34m=\u001b[0m\u001b[0mend\u001b[0m\u001b[0;34m\u001b[0m\u001b[0m\n",
      "\u001b[0;31mNameError\u001b[0m: name 'X_train' is not defined"
     ]
    }
   ],
   "source": [
    "sess = tf.InteractiveSession()\n",
    "sess.run(tf.global_variables_initializer())\n",
    "\n",
    "n_epoch = 1020\n",
    "losses = np.empty(n_epoch)\n",
    "train_accuracies = np.empty(n_epoch)\n",
    "test_accuracies = np.empty(n_epoch)\n",
    "\n",
    "#Iterations to do trainning\n",
    "for epoch in range(n_epoch):\n",
    "    start=0\n",
    "    end=100\n",
    "    for i in range(14):\n",
    "        \n",
    "        \n",
    "        \n",
    "        X=X_train[start:end]\n",
    "        Y=y_train[start:end]\n",
    "        start=end\n",
    "        end=start+100\n",
    "        sess.run(train_step,feed_dict={rnn._inputs:X, y:Y})\n",
    "\n",
    "    Loss=str(sess.run(cross_entropy,feed_dict={rnn._inputs:X, y:Y}))\n",
    "    Train_accuracy=str(sess.run(accuracy,feed_dict={rnn._inputs:X_train[:500], y:y_train[:500]}))\n",
    "    Test_accuracy=str(sess.run(accuracy,feed_dict={rnn._inputs:X_test, y:y_test}))\n",
    "    \n",
    "    losses[epoch] = Loss\n",
    "    train_accuracies[epoch] = Train_accuracy\n",
    "    test_accuracies[epoch] = Test_accuracy\n",
    "    \n",
    "    print(\"\\rIteration: %s Loss: %s Train Accuracy: %s Test Accuracy: %s\"%(epoch,Loss,Train_accuracy,Test_accuracy)),"
   ]
  },
  {
   "cell_type": "code",
   "execution_count": 15,
   "metadata": {},
   "outputs": [
    {
     "data": {
      "text/plain": [
       "[<matplotlib.lines.Line2D at 0x12698ad68>]"
      ]
     },
     "execution_count": 15,
     "metadata": {},
     "output_type": "execute_result"
    },
    {
     "data": {
      "image/png": "[encoded data removed]",
      "text/plain": [
       "<matplotlib.figure.Figure at 0x12446fa90>"
      ]
     },
     "metadata": {},
     "output_type": "display_data"
    }
   ],
   "source": [
    "plt.plot(range(n_epoch),losses,'b.',)\n",
    "plt.plot(range(n_epoch),train_accuracies,'r*',)\n",
    "plt.plot(range(n_epoch),test_accuracies,'g+')"
   ]
  },
  {
   "cell_type": "code",
   "execution_count": null,
   "metadata": {
    "collapsed": true
   },
   "outputs": [],
   "source": []
  }
 ],
 "metadata": {
  "anaconda-cloud": {},
  "kernelspec": {
   "display_name": "Python 3",
   "language": "python",
   "name": "python3"
  },
  "language_info": {
   "codemirror_mode": {
    "name": "ipython",
    "version": 3
   },
   "file_extension": ".py",
   "mimetype": "text/x-python",
   "name": "python",
   "nbconvert_exporter": "python",
   "pygments_lexer": "ipython3",
   "version": "3.6.2"
  }
 },
 "nbformat": 4,
 "nbformat_minor": 2
}
