{
 "cells": [
  {
   "cell_type": "markdown",
   "metadata": {},
   "source": [
    "# LSTM test"
   ]
  },
  {
   "cell_type": "code",
   "execution_count": 14,
   "metadata": {},
   "outputs": [
    {
     "name": "stdout",
     "output_type": "stream",
     "text": [
      "The autoreload extension is already loaded. To reload it, use:\n",
      "  %reload_ext autoreload\n"
     ]
    }
   ],
   "source": [
    "%load_ext autoreload\n",
    "%autoreload 2\n",
    "%matplotlib inline\n",
    "\n",
    "import numpy as np\n",
    "import matplotlib\n",
    "import matplotlib.pyplot as plt\n",
    "from sklearn import datasets\n",
    "from sklearn.model_selection import train_test_split\n",
    "from sklearn.preprocessing import OneHotEncoder\n",
    "import sys\n",
    "\n",
    "sys.path.append('../models/')\n",
    "from lstm import *\n",
    "\n",
    "sys.path.append('../src/common/')\n",
    "from helper import *"
   ]
  },
  {
   "cell_type": "markdown",
   "metadata": {},
   "source": [
    "Placeholder and initializers"
   ]
  },
  {
   "cell_type": "code",
   "execution_count": 15,
   "metadata": {},
   "outputs": [],
   "source": [
    "hidden_layer_size = 100\n",
    "input_size = 8\n",
    "target_size = 10\n",
    "\n",
    "y = tf.placeholder(tf.float32, shape=[None, target_size], name='inputs')"
   ]
  },
  {
   "cell_type": "markdown",
   "metadata": {},
   "source": [
    "Models"
   ]
  },
  {
   "cell_type": "code",
   "execution_count": 39,
   "metadata": {},
   "outputs": [
    {
     "name": "stdout",
     "output_type": "stream",
     "text": [
      "in get_states: self.processed_input:  Tensor(\"transpose_11:0\", shape=(?, ?, 8), dtype=float32)\n",
      "in lstm, x:  (?, 8)\n",
      "in lstm, previous_hidden_memory_tuple:  (2, ?, 100)\n",
      "all_hidden_states before:  (?, 2, ?, 100)\n",
      "all_hidden_states after:  (?, ?, 100)\n"
     ]
    }
   ],
   "source": [
    "# Initializing rnn object\n",
    "rnn = LSTM_cell(input_size, hidden_layer_size, target_size)\n",
    "\n",
    "# Getting all outputs from rnn\n",
    "outputs = rnn.get_outputs()\n",
    "\n",
    "# Getting final output through indexing after reversing\n",
    "last_output = outputs[-1]\n",
    "\n",
    "# As rnn model output the final layer through Relu activation softmax is\n",
    "# used for final output.\n",
    "output = tf.nn.softmax(last_output)\n",
    "\n",
    "# Computing the Cross Entropy loss\n",
    "cross_entropy = -tf.reduce_sum(y * tf.log(output))\n",
    "\n",
    "# Trainning with Adadelta Optimizer\n",
    "#train_step = tf.train.AdamOptimizer().minimize(cross_entropy)\n",
    "#Use same optimizer as the paper\n",
    "train_step = tf.train.RMSPropOptimizer(1e-4).minimize(cross_entropy)\n",
    "\n",
    "# Calculation of correct prediction and accuracy\n",
    "correct_prediction = tf.equal(tf.argmax(y, 1), tf.argmax(output, 1))\n",
    "accuracy = (tf.reduce_mean(tf.cast(correct_prediction, tf.float32))) * 100"
   ]
  },
  {
   "cell_type": "markdown",
   "metadata": {},
   "source": [
    "what the fuck scan is doing"
   ]
  },
  {
   "cell_type": "code",
   "execution_count": 48,
   "metadata": {},
   "outputs": [
    {
     "name": "stdout",
     "output_type": "stream",
     "text": [
      "Tensor(\"scan_8/while/Shape:0\", shape=(1,), dtype=int32)\n",
      "[ 2  8 14 22 27]\n"
     ]
    }
   ],
   "source": [
    "def f(x, ys):\n",
    "    print(tf.shape(ys))\n",
    "    (y1, y2) = ys\n",
    "    return x + y1 * y2\n",
    "\n",
    "a = tf.constant([1, 2, 3, 4, 5])\n",
    "b = tf.constant([2, 3, 2, 2, 1])\n",
    "c = tf.scan(f, (a, b), initializer=0)\n",
    "with tf.Session() as sess:\n",
    "    print(sess.run(c))"
   ]
  },
  {
   "cell_type": "markdown",
   "metadata": {},
   "source": [
    "Load dataset"
   ]
  },
  {
   "cell_type": "code",
   "execution_count": 25,
   "metadata": {},
   "outputs": [],
   "source": [
    "# Using Sklearn MNIST dataset.\n",
    "digits = datasets.load_digits()\n",
    "X = digits.images\n",
    "Y_ = digits.target"
   ]
  },
  {
   "cell_type": "code",
   "execution_count": 26,
   "metadata": {},
   "outputs": [
    {
     "data": {
      "text/plain": [
       "(1797, 8, 8)"
      ]
     },
     "execution_count": 26,
     "metadata": {},
     "output_type": "execute_result"
    }
   ],
   "source": [
    "X.shape"
   ]
  },
  {
   "cell_type": "code",
   "execution_count": 27,
   "metadata": {},
   "outputs": [
    {
     "data": {
      "text/plain": [
       "(1797,)"
      ]
     },
     "execution_count": 27,
     "metadata": {},
     "output_type": "execute_result"
    }
   ],
   "source": [
    "Y_.shape"
   ]
  },
  {
   "cell_type": "markdown",
   "metadata": {},
   "source": [
    "Convert Y_ to one hot encoding"
   ]
  },
  {
   "cell_type": "code",
   "execution_count": 28,
   "metadata": {},
   "outputs": [
    {
     "data": {
      "text/plain": [
       "(1797, 10)"
      ]
     },
     "execution_count": 28,
     "metadata": {},
     "output_type": "execute_result"
    }
   ],
   "source": [
    "Y = one_hot(Y_); Y.shape"
   ]
  },
  {
   "cell_type": "markdown",
   "metadata": {},
   "source": [
    "Create train-test split"
   ]
  },
  {
   "cell_type": "code",
   "execution_count": 21,
   "metadata": {},
   "outputs": [],
   "source": [
    "# Getting Train and test Dataset\n",
    "X_train, X_test, y_train, y_test = train_test_split(\n",
    "    X, Y, test_size=0.22, random_state=42)"
   ]
  },
  {
   "cell_type": "markdown",
   "metadata": {},
   "source": [
    "Training"
   ]
  },
  {
   "cell_type": "code",
   "execution_count": 29,
   "metadata": {},
   "outputs": [],
   "source": [
    "sess = tf.InteractiveSession()\n",
    "sess.run(tf.global_variables_initializer())\n",
    "\n",
    "n_epoch = 1020\n",
    "losses = np.empty(n_epoch)\n",
    "train_accuracies = np.empty(n_epoch)\n",
    "test_accuracies = np.empty(n_epoch)"
   ]
  },
  {
   "cell_type": "code",
   "execution_count": 36,
   "metadata": {
    "scrolled": true
   },
   "outputs": [
    {
     "name": "stdout",
     "output_type": "stream",
     "text": [
      "(100, 8, 8) (100, 10)\n",
      "(100, 8, 8) (100, 10)\n",
      "(100, 8, 8) (100, 10)\n",
      "(100, 8, 8) (100, 10)\n",
      "(100, 8, 8) (100, 10)\n",
      "(100, 8, 8) (100, 10)\n",
      "(100, 8, 8) (100, 10)\n",
      "(100, 8, 8) (100, 10)\n",
      "(100, 8, 8) (100, 10)\n",
      "(100, 8, 8) (100, 10)\n",
      "(100, 8, 8) (100, 10)\n",
      "(100, 8, 8) (100, 10)\n",
      "(100, 8, 8) (100, 10)\n",
      "(100, 8, 8) (100, 10)\n",
      "Iteration: 0 Loss: 229.7 Train Accuracy: 9.4 Test Accuracy: 8.83838\n"
     ]
    }
   ],
   "source": [
    "#Iterations to do trainning\n",
    "n_epoch=1\n",
    "for epoch in range(n_epoch):\n",
    "    start=0\n",
    "    end=100\n",
    "    for i in range(14):\n",
    "        \n",
    "        X=X_train[start:end]\n",
    "        Y=y_train[start:end]\n",
    "        start=end\n",
    "        end=start+100\n",
    "        sess.run(train_step,feed_dict={rnn._inputs:X, y:Y})\n",
    "                \n",
    "        print(X.shape, Y.shape)\n",
    "\n",
    "    Loss=str(sess.run(cross_entropy,feed_dict={rnn._inputs:X, y:Y}))\n",
    "    Train_accuracy=str(sess.run(accuracy,feed_dict={rnn._inputs:X_train[:500], y:y_train[:500]}))\n",
    "    Test_accuracy=str(sess.run(accuracy,feed_dict={rnn._inputs:X_test, y:y_test}))\n",
    "    \n",
    "    losses[epoch] = Loss\n",
    "    train_accuracies[epoch] = Train_accuracy\n",
    "    test_accuracies[epoch] = Test_accuracy\n",
    "    \n",
    "    print(\"\\rIteration: %s Loss: %s Train Accuracy: %s Test Accuracy: %s\"%(epoch,Loss,Train_accuracy,Test_accuracy)),"
   ]
  },
  {
   "cell_type": "code",
   "execution_count": 8,
   "metadata": {},
   "outputs": [
    {
     "data": {
      "text/plain": [
       "[<matplotlib.lines.Line2D at 0x120b86e80>]"
      ]
     },
     "execution_count": 8,
     "metadata": {},
     "output_type": "execute_result"
    },
    {
     "data": {
      "image/png": "[encoded data removed]",
      "text/plain": [
       "<matplotlib.figure.Figure at 0x1209b1320>"
      ]
     },
     "metadata": {},
     "output_type": "display_data"
    }
   ],
   "source": [
    "plt.plot(range(n_epoch),losses,'b.',)\n",
    "plt.plot(range(n_epoch),train_accuracies,'r*',)\n",
    "plt.plot(range(n_epoch),test_accuracies,'g+')"
   ]
  },
  {
   "cell_type": "code",
   "execution_count": null,
   "metadata": {
    "collapsed": true
   },
   "outputs": [],
   "source": []
  }
 ],
 "metadata": {
  "anaconda-cloud": {},
  "kernelspec": {
   "display_name": "Python 3",
   "language": "python",
   "name": "python3"
  },
  "language_info": {
   "codemirror_mode": {
    "name": "ipython",
    "version": 3
   },
   "file_extension": ".py",
   "mimetype": "text/x-python",
   "name": "python",
   "nbconvert_exporter": "python",
   "pygments_lexer": "ipython3",
   "version": "3.6.2"
  }
 },
 "nbformat": 4,
 "nbformat_minor": 2
}
