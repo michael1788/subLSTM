{
 "cells": [
  {
   "cell_type": "markdown",
   "metadata": {},
   "source": [
    "# LSTM test from RAM example\n",
    "- http://suriyadeepan.github.io/2017-02-13-unfolding-rnn-2/\n",
    "- https://github.com/suriyadeepan/rnn-from-scratch/blob/master/lstm.py"
   ]
  },
  {
   "cell_type": "code",
   "execution_count": 39,
   "metadata": {},
   "outputs": [
    {
     "name": "stdout",
     "output_type": "stream",
     "text": [
      "The autoreload extension is already loaded. To reload it, use:\n",
      "  %reload_ext autoreload\n"
     ]
    }
   ],
   "source": [
    "%load_ext autoreload\n",
    "%autoreload 2\n",
    "%matplotlib inline\n",
    "\n",
    "import numpy as np\n",
    "import matplotlib\n",
    "import matplotlib.pyplot as plt\n",
    "from sklearn import datasets\n",
    "from sklearn.model_selection import train_test_split\n",
    "from sklearn.preprocessing import OneHotEncoder\n",
    "import sys\n",
    "\n",
    "sys.path.append('../src/common/')\n",
    "import utils\n",
    "import data"
   ]
  },
  {
   "cell_type": "markdown",
   "metadata": {},
   "source": [
    "#### Placeholder and initializers"
   ]
  },
  {
   "cell_type": "code",
   "execution_count": 3,
   "metadata": {},
   "outputs": [],
   "source": [
    "BATCH_SIZE = 256"
   ]
  },
  {
   "cell_type": "markdown",
   "metadata": {},
   "source": [
    "####  Model"
   ]
  },
  {
   "cell_type": "code",
   "execution_count": 32,
   "metadata": {},
   "outputs": [],
   "source": [
    "class LSTM_rnn():\n",
    "\n",
    "    def __init__(self, state_size, num_classes,\n",
    "            ckpt_path='ckpt/lstm1/',\n",
    "            model_name='lstm1'):\n",
    "\n",
    "        self.state_size = state_size\n",
    "        self.num_classes = num_classes\n",
    "        self.ckpt_path = ckpt_path\n",
    "        self.model_name = model_name\n",
    "\n",
    "        # build graph ops\n",
    "        def __graph__():\n",
    "            tf.reset_default_graph()\n",
    "            # inputs\n",
    "            xs_ = tf.placeholder(shape=[None, None], dtype=tf.int32)\n",
    "            ys_ = tf.placeholder(shape=[None], dtype=tf.int32)\n",
    "            #\n",
    "            # embeddings\n",
    "            embs = tf.get_variable('emb', [num_classes, state_size])\n",
    "            rnn_inputs = tf.nn.embedding_lookup(embs, xs_)\n",
    "            #\n",
    "            # initial hidden state\n",
    "            init_state = tf.placeholder(shape=[2, None, state_size], dtype=tf.float32, name='initial_state')\n",
    "            # initializer\n",
    "            xav_init = tf.contrib.layers.xavier_initializer\n",
    "            # params\n",
    "            W = tf.get_variable('W', shape=[4, self.state_size, self.state_size], initializer=xav_init())\n",
    "            U = tf.get_variable('U', shape=[4, self.state_size, self.state_size], initializer=xav_init())\n",
    "            #b = tf.get_variable('b', shape=[self.state_size], initializer=tf.constant_initializer(0.))\n",
    "\n",
    "            # step - LSTM\n",
    "            def step(prev, x):\n",
    "                # gather previous internal state and output state\n",
    "                st_1, ct_1 = tf.unstack(prev)\n",
    "                ####\n",
    "                # GATES\n",
    "                #\n",
    "                #  input gate\n",
    "                i = tf.sigmoid(tf.matmul(x,U[0]) + tf.matmul(st_1,W[0]))\n",
    "                #  forget gate\n",
    "                f = tf.sigmoid(tf.matmul(x,U[1]) + tf.matmul(st_1,W[1]))\n",
    "                #  output gate\n",
    "                o = tf.sigmoid(tf.matmul(x,U[2]) + tf.matmul(st_1,W[2]))\n",
    "                #  gate weights\n",
    "                g = tf.tanh(tf.matmul(x,U[3]) + tf.matmul(st_1,W[3]))\n",
    "                ###\n",
    "                # new internal cell state\n",
    "                ct = ct_1*f + g*i\n",
    "                # output state\n",
    "                st = tf.tanh(ct)*o\n",
    "                return tf.stack([st, ct])\n",
    "            ###\n",
    "            # here comes the scan operation; wake up!\n",
    "            #   tf.scan(fn, elems, initializer)\n",
    "            states = tf.scan(step, \n",
    "                    tf.transpose(rnn_inputs, [1,0,2]),\n",
    "                    initializer=init_state)\n",
    "            #\n",
    "            # predictions\n",
    "            V = tf.get_variable('V', shape=[state_size, num_classes], \n",
    "                                initializer=xav_init())\n",
    "            bo = tf.get_variable('bo', shape=[num_classes], \n",
    "                                 initializer=tf.constant_initializer(0.))\n",
    "\n",
    "            ####\n",
    "            # get last state before reshape/transpose\n",
    "            last_state = states[-1]\n",
    "\n",
    "            ####\n",
    "            # transpose\n",
    "            states = tf.transpose(states, [1,2,0,3])[0]\n",
    "            #st_shp = tf.shape(states)\n",
    "            # flatten states to 2d matrix for matmult with V\n",
    "            #states_reshaped = tf.reshape(states, [st_shp[0] * st_shp[1], st_shp[2]])\n",
    "            states_reshaped = tf.reshape(states, [-1, state_size])\n",
    "            logits = tf.matmul(states_reshaped, V) + bo\n",
    "            # predictions\n",
    "            predictions = tf.nn.softmax(logits) \n",
    "\n",
    "            # optimization\n",
    "            losses = tf.nn.sparse_softmax_cross_entropy_with_logits(logits=logits, labels=ys_)\n",
    "            loss = tf.reduce_mean(losses)\n",
    "            train_op = tf.train.AdagradOptimizer(learning_rate=0.1).minimize(loss)\n",
    "\n",
    "            # expose symbols\n",
    "            self.xs_ = xs_\n",
    "            self.ys_ = ys_\n",
    "            self.loss = loss\n",
    "            self.train_op = train_op\n",
    "            self.predictions = predictions\n",
    "            self.last_state = last_state\n",
    "            self.init_state = init_state\n",
    "            \n",
    "        ##### \n",
    "        # build graph\n",
    "        __graph__()\n",
    "            \n",
    "    def train(self, train_set, epochs=100):\n",
    "        # training session\n",
    "        with tf.Session() as sess:\n",
    "            sess.run(tf.global_variables_initializer())\n",
    "            train_loss = 0\n",
    "            try:\n",
    "                for i in range(epochs):\n",
    "                    for j in range(100):\n",
    "                        xs, ys = train_set.__next__()\n",
    "                        batch_size = xs.shape[0]\n",
    "                        _, train_loss_ = sess.run([self.train_op, self.loss], feed_dict = {\n",
    "                                self.xs_ : xs,\n",
    "                                self.ys_ : ys.flatten(),\n",
    "                                self.init_state : np.zeros([2, batch_size, self.state_size])\n",
    "                            })\n",
    "                        train_loss += train_loss_\n",
    "                    print('[{}] loss : {}'.format(i,train_loss/100))\n",
    "                    train_loss = 0\n",
    "            except KeyboardInterrupt:\n",
    "                print('interrupted by user at ' + str(i))\n",
    "            #\n",
    "            # training ends here; \n",
    "            #  save checkpoint\n",
    "            saver = tf.train.Saver()\n",
    "            saver.save(sess, self.ckpt_path + self.model_name, global_step=i)"
   ]
  },
  {
   "cell_type": "code",
   "execution_count": 41,
   "metadata": {},
   "outputs": [],
   "source": [
    "X, Y, idx2w, w2idx = data.load_data('data/sms/')\n",
    "seqlen = X.shape[0]\n",
    "#\n",
    "# create the model\n",
    "model = LSTM_rnn(state_size = 512, num_classes=len(idx2w))"
   ]
  },
  {
   "cell_type": "code",
   "execution_count": 42,
   "metadata": {},
   "outputs": [
    {
     "name": "stdout",
     "output_type": "stream",
     "text": [
      "(26005, 10) (26005, 10)\n"
     ]
    }
   ],
   "source": [
    "print(X.shape, Y.shape)"
   ]
  },
  {
   "cell_type": "code",
   "execution_count": 43,
   "metadata": {},
   "outputs": [
    {
     "data": {
      "text/plain": [
       "array([   9.,    3.,  105.,   56.,   97.,  139.,  116.,  112.,   18.,   36.])"
      ]
     },
     "execution_count": 43,
     "metadata": {},
     "output_type": "execute_result"
    }
   ],
   "source": [
    "X[0]"
   ]
  },
  {
   "cell_type": "code",
   "execution_count": 44,
   "metadata": {},
   "outputs": [
    {
     "data": {
      "text/plain": [
       "array([   3.,  105.,   56.,   97.,  139.,  116.,  112.,   18.,   36.,   91.])"
      ]
     },
     "execution_count": 44,
     "metadata": {},
     "output_type": "execute_result"
    }
   ],
   "source": [
    "Y[0]"
   ]
  },
  {
   "cell_type": "markdown",
   "metadata": {},
   "source": [
    "#### Training"
   ]
  },
  {
   "cell_type": "code",
   "execution_count": 60,
   "metadata": {},
   "outputs": [],
   "source": [
    "# get train set\n",
    "train_set = utils.rand_batch_gen(X, Y, batch_size=BATCH_SIZE)\n",
    "\n",
    "# start training\n",
    "model.train(train_set)"
   ]
  },
  {
   "cell_type": "code",
   "execution_count": null,
   "metadata": {},
   "outputs": [],
   "source": []
  }
 ],
 "metadata": {
  "anaconda-cloud": {},
  "kernelspec": {
   "display_name": "Python 3",
   "language": "python",
   "name": "python3"
  },
  "language_info": {
   "codemirror_mode": {
    "name": "ipython",
    "version": 3
   },
   "file_extension": ".py",
   "mimetype": "text/x-python",
   "name": "python",
   "nbconvert_exporter": "python",
   "pygments_lexer": "ipython3",
   "version": "3.6.2"
  }
 },
 "nbformat": 4,
 "nbformat_minor": 2
}
