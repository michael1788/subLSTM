{
 "cells": [
  {
   "cell_type": "markdown",
   "metadata": {},
   "source": [
    "# Sequential MNIST results from the paper by Rui Costa et al.:<br/>\"Cortical microcircuits as gated-recurrent neural networks\" \n",
    "## Implementation done in the scope of the nurture.ai NIPS 2017 paper implementation challenge"
   ]
  },
  {
   "cell_type": "markdown",
   "metadata": {},
   "source": [
    "- nurture.ai challenge: https://nurture.ai/nips-challenge\n",
    "- Paper: http://papers.nips.cc/paper/6631-cortical-microcircuits-as-gated-recurrent-neural-networks\n",
    "- Credits:<br/>\n",
    " Training logic based on the r2rt LSTM tutorial (https://r2rt.com/recurrent-neural-networks-in-tensorflow-ii.html).<br/>\n",
    " Model definition based on KnHuq implementation (https://github.com/KnHuq/Dynamic-Tensorflow-Tutorial/blob/master/LSTM/LSTM.py\n",
    ")."
   ]
  },
  {
   "cell_type": "markdown",
   "metadata": {},
   "source": [
    "## This notebook compare the results of models with 1 layer (as done in the paper)"
   ]
  },
  {
   "cell_type": "markdown",
   "metadata": {},
   "source": [
    "### Loading Librairies and Models"
   ]
  },
  {
   "cell_type": "code",
   "execution_count": 1,
   "metadata": {
    "collapsed": true
   },
   "outputs": [],
   "source": [
    "%load_ext autoreload\n",
    "%autoreload 2\n",
    "%matplotlib inline\n",
    "\n",
    "import numpy as np\n",
    "import sys\n",
    "\n",
    "#import LSTM and subLSTM cell models\n",
    "sys.path.append('../models/')\n",
    "from LSTM import *\n",
    "from subLSTM import *\n",
    "from parameters import *\n",
    "\n",
    "sys.path.append('../src/common/')\n",
    "import helper as hp"
   ]
  },
  {
   "cell_type": "markdown",
   "metadata": {},
   "source": [
    "### Loading MNIST dataset"
   ]
  },
  {
   "cell_type": "code",
   "execution_count": 2,
   "metadata": {
    "collapsed": false
   },
   "outputs": [
    {
     "name": "stdout",
     "output_type": "stream",
     "text": [
      "Extracting MNIST_data/train-images-idx3-ubyte.gz\n",
      "Extracting MNIST_data/train-labels-idx1-ubyte.gz\n",
      "Extracting MNIST_data/t10k-images-idx3-ubyte.gz\n",
      "Extracting MNIST_data/t10k-labels-idx1-ubyte.gz\n"
     ]
    }
   ],
   "source": [
    "from tensorflow.examples.tutorials.mnist import input_data\n",
    "mnist = input_data.read_data_sets(\"MNIST_data/\", one_hot=True)"
   ]
  },
  {
   "cell_type": "markdown",
   "metadata": {},
   "source": [
    "### Training Function"
   ]
  },
  {
   "cell_type": "code",
   "execution_count": 3,
   "metadata": {
    "collapsed": true
   },
   "outputs": [],
   "source": [
    "def train_network(g, batch_size=50, n_epoch=10, verbose=False, save=False, patience=25, min_delta=0.01):\n",
    "    with tf.Session() as sess:\n",
    "        sess.run(tf.global_variables_initializer())\n",
    "        \n",
    "        # parameters for early stopping\n",
    "        patience_cnt = 0\n",
    "        max_test_accuracy = 0.0\n",
    "\n",
    "        #Iterations to do trainning\n",
    "        for epoch in range(n_epoch):\n",
    "\n",
    "            X, Y = mnist.train.next_batch(batch_size)\n",
    "            X = X.reshape(batch_size, 1, g['input_size'])\n",
    "\n",
    "            sess.run(g['train_step'],feed_dict={g['rnn']._inputs:X, g['y']:Y})\n",
    "               \n",
    "            if epoch % 1000 == 0:\n",
    "                Loss=str(sess.run(g['cross_entropy'],feed_dict={g['rnn']._inputs:X, g['y']:Y}))\n",
    "                Train_accuracy=str(sess.run(g['accuracy'],feed_dict={g['rnn']._inputs:X, g['y']:Y}))\n",
    "                X_test = mnist.test.images.reshape(10000,1,g['input_size'])\n",
    "                Test_accuracy=str(sess.run(g['accuracy'],feed_dict={g['rnn']._inputs:X_test, g['y']:mnist.test.labels}))\n",
    "                if verbose:\n",
    "                    print(\"\\rIteration: %s Loss: %s Train Accuracy: %s Test Accuracy: %s\"%(epoch,Loss,Train_accuracy,Test_accuracy))\n",
    "                    \n",
    "                # early stopping\n",
    "                if float(Test_accuracy) > max_test_accuracy:\n",
    "                    max_test_accuracy = float(Test_accuracy)\n",
    "                    patience_cnt = 0\n",
    "                else:\n",
    "                    patience_cnt += 1\n",
    "                if patience_cnt > patience:\n",
    "                    print(\"early stopping at epoch: \", epoch)\n",
    "                    break\n",
    "                        \n",
    "                if isinstance(save, str):\n",
    "                    g['saver'].save(sess, save)\n",
    "    \n",
    "    return max_test_accuracy"
   ]
  },
  {
   "cell_type": "markdown",
   "metadata": {},
   "source": [
    "### Building Graph Model Function"
   ]
  },
  {
   "cell_type": "code",
   "execution_count": 4,
   "metadata": {
    "collapsed": true
   },
   "outputs": [],
   "source": [
    "def build_graph(cell_type=None, load_parameters=False):\n",
    "    # define initial parameters\n",
    "    input_size = 784\n",
    "    output_size = 10\n",
    "    optimizer = 'Adam'\n",
    "    momentum = False\n",
    "    learning_rate = 0.001\n",
    "    hidden_units = 10\n",
    "    \n",
    "    if load_parameters:\n",
    "        #load parameters from file\n",
    "        if cell_type == 'LSTM':\n",
    "            parameters = LSTM_parameters()\n",
    "        elif cell_type == 'sub_LSTM':\n",
    "            parameters = SubLSTM_parameters()\n",
    "        elif cell_type == 'fix_sub_LSTM':\n",
    "            parameters = Fix_subLSTM_parameters()\n",
    "        else:\n",
    "            print(\"No cell_type selected! Use LSTM cell\")\n",
    "            parameters = LSTM_parameters()\n",
    "        \n",
    "        input_size = parameters.mnist['input_size']\n",
    "        output_size = parameters.mnist['output_size']\n",
    "        optimizer = parameters.mnist['optimizer']\n",
    "        momentum = parameters.mnist['momentum']\n",
    "        learning_rate = parameters.mnist['learning_rate']\n",
    "        hidden_units = parameters.mnist['hidden_units']\n",
    "\n",
    "    # reset graph\n",
    "    if 'sess' in globals() and sess:\n",
    "        sess.close()\n",
    "    tf.reset_default_graph()\n",
    "    \n",
    "    # Initializing rnn object\n",
    "    if cell_type == 'LSTM':\n",
    "        rnn = LSTM_cell(input_size, hidden_units, output_size)\n",
    "    elif cell_type == 'sub_LSTM':\n",
    "        rnn = subLSTM_cell(input_size, hidden_units, output_size)\n",
    "    elif cell_type == 'fix_sub_LSTM':\n",
    "        print(\"TODO!\")\n",
    "    else:\n",
    "        rnn = LSTM_cell(input_size, hidden_units, output_size)\n",
    "    \n",
    "    #input label placeholder\n",
    "    y = tf.placeholder(tf.float32, [None, output_size])\n",
    "    \n",
    "    # Getting all outputs from rnn\n",
    "    outputs = rnn.get_outputs()\n",
    "\n",
    "    # Getting final output through indexing after reversing\n",
    "    last_output = outputs[-1]\n",
    "\n",
    "    # As rnn model output the final layer through Relu activation softmax is\n",
    "    # used for final output\n",
    "    output = tf.nn.softmax(last_output)\n",
    "\n",
    "    # Computing the Cross Entropy loss\n",
    "    cross_entropy = -tf.reduce_sum(y * tf.log(output))\n",
    "\n",
    "    # setting optimizer\n",
    "    if optimizer == 'Adam':\n",
    "        # Trainning with Adam Optimizer\n",
    "        train_step = tf.train.AdamOptimizer(learning_rate).minimize(cross_entropy)\n",
    "    elif optimizer == 'RMSProp':\n",
    "        # Trainning with RMSProp Optimizer\n",
    "        train_step = tf.train.RMSPropOptimizer(learning_rate).minimize(cross_entropy)\n",
    "    else:\n",
    "        #if nothing is define use Adam optimizer\n",
    "        train_step = tf.train.AdamOptimizer(learning_rate).minimize(cross_entropy)\n",
    "\n",
    "    # Calculation of correct prediction and accuracy\n",
    "    correct_prediction = tf.equal(tf.argmax(y, 1), tf.argmax(output, 1))\n",
    "    accuracy = (tf.reduce_mean(tf.cast(correct_prediction, tf.float32))) * 100\n",
    "      \n",
    "    return dict(\n",
    "        rnn = rnn,\n",
    "        y = y,\n",
    "        input_size = input_size,\n",
    "        output = output,\n",
    "        cross_entropy = cross_entropy,\n",
    "        train_step = train_step,\n",
    "        preds = correct_prediction,\n",
    "        accuracy = accuracy,\n",
    "        saver = tf.train.Saver()\n",
    "    ) "
   ]
  },
  {
   "cell_type": "markdown",
   "metadata": {},
   "source": [
    "### Simulation Parameters"
   ]
  },
  {
   "cell_type": "code",
   "execution_count": 5,
   "metadata": {
    "collapsed": true
   },
   "outputs": [],
   "source": [
    "n_simulation = 5\n",
    "batch_size = 500\n",
    "n_epoch = 150000"
   ]
  },
  {
   "cell_type": "markdown",
   "metadata": {},
   "source": [
    "### LSTM training"
   ]
  },
  {
   "cell_type": "code",
   "execution_count": 6,
   "metadata": {
    "collapsed": false,
    "scrolled": true
   },
   "outputs": [
    {
     "name": "stdout",
     "output_type": "stream",
     "text": [
      "Traning begins for:  5  simulation(s)\n",
      "simulation  0  running\n",
      "early stopping at epoch:  103000\n",
      "simulation  1  running\n",
      "early stopping at epoch:  66000\n",
      "simulation  2  running\n",
      "early stopping at epoch:  82000\n",
      "simulation  3  running\n",
      "early stopping at epoch:  93000\n",
      "simulation  4  running\n",
      "early stopping at epoch:  93000\n",
      "The mean test accuracy of the simulation is: 94.104\n",
      "the standard deviation is: 7.74222345325\n",
      "The best test accuracy obtained was: 98.08\n",
      "CPU times: user 51min 29s, sys: 7min 9s, total: 58min 39s\n",
      "Wall time: 38min 21s\n"
     ]
    }
   ],
   "source": [
    "%%time\n",
    "lstm_accuracies = []\n",
    "print('Traning begins for: ', n_simulation, ' simulation(s)')\n",
    "\n",
    "for n in range(n_simulation):\n",
    "    print('simulation ', n, ' running')\n",
    "    g = build_graph(cell_type='LSTM', load_parameters=True)\n",
    "    test_accuracy = train_network(g, batch_size, n_epoch, verbose=False)\n",
    "    lstm_accuracies.append(test_accuracy)\n",
    "\n",
    "lstm_mean_accuracy = np.mean(lstm_accuracies)\n",
    "lstm_std_accuracy = np.std(lstm_accuracies)\n",
    "lstm_best_accuracy = np.amax(lstm_accuracies)\n",
    "\n",
    "print(\"The mean test accuracy of the simulation is:\", lstm_mean_accuracy)\n",
    "print(\"the standard deviation is:\", lstm_std_accuracy)\n",
    "print(\"The best test accuracy obtained was:\", lstm_best_accuracy)"
   ]
  },
  {
   "cell_type": "markdown",
   "metadata": {},
   "source": [
    "### SubLSTM training"
   ]
  },
  {
   "cell_type": "code",
   "execution_count": 7,
   "metadata": {
    "collapsed": false
   },
   "outputs": [
    {
     "name": "stdout",
     "output_type": "stream",
     "text": [
      "Traning begins for:  5  simulation(s)\n",
      "simulation  0  running\n",
      "early stopping at epoch:  118000\n",
      "simulation  1  running\n",
      "early stopping at epoch:  110000\n",
      "simulation  2  running\n",
      "early stopping at epoch:  126000\n",
      "simulation  3  running\n",
      "early stopping at epoch:  103000\n",
      "simulation  4  running\n",
      "early stopping at epoch:  139000\n",
      "The mean test accuracy of the simulation is: 94.044\n",
      "the standard deviation is: 4.58727631607\n",
      "The best test accuracy obtained was: 97.86\n",
      "CPU times: user 1h 10min 41s, sys: 9min 39s, total: 1h 20min 20s\n",
      "Wall time: 52min 34s\n"
     ]
    }
   ],
   "source": [
    "%%time\n",
    "sub_lstm_accuracies = []\n",
    "print('Traning begins for: ', n_simulation, ' simulation(s)')\n",
    "\n",
    "for n in range(n_simulation):\n",
    "    print('simulation ', n, ' running')\n",
    "    g = build_graph(cell_type='sub_LSTM', load_parameters=True)\n",
    "    test_accuracy = train_network(g, batch_size, n_epoch, verbose = False)\n",
    "    sub_lstm_accuracies.append(test_accuracy)\n",
    "\n",
    "sub_lstm_mean_accuracy = np.mean(sub_lstm_accuracies)\n",
    "sub_lstm_std_accuracy = np.std(sub_lstm_accuracies)\n",
    "sub_lstm_best_accuracy = np.amax(sub_lstm_accuracies)\n",
    "\n",
    "print(\"The mean test accuracy of the simulation is:\", sub_lstm_mean_accuracy)\n",
    "print(\"the standard deviation is:\", sub_lstm_std_accuracy)\n",
    "print(\"The best test accuracy obtained was:\", sub_lstm_best_accuracy)"
   ]
  },
  {
   "cell_type": "markdown",
   "metadata": {},
   "source": [
    "### Plot test mean accuracies and std"
   ]
  },
  {
   "cell_type": "code",
   "execution_count": 8,
   "metadata": {
    "collapsed": true
   },
   "outputs": [],
   "source": [
    "objects = ('LSTM', 'SubLSTM')\n",
    "mean_accuracies = [lstm_mean_accuracy, sub_lstm_mean_accuracy]\n",
    "std_accuracies = [lstm_std_accuracy, sub_lstm_std_accuracy]\n",
    "accuracies = [lstm_accuracies, sub_lstm_accuracies]"
   ]
  },
  {
   "cell_type": "code",
   "execution_count": 9,
   "metadata": {
    "collapsed": false
   },
   "outputs": [
    {
     "data": {
      "image/png": "[encoded data removed]",
      "text/plain": [
       "<matplotlib.figure.Figure at 0x7f26450eb1d0>"
      ]
     },
     "metadata": {},
     "output_type": "display_data"
    }
   ],
   "source": [
    "hp.bar_plot(objects, mean_accuracies, std_accuracies, accuracies)"
   ]
  }
 ],
 "metadata": {
  "anaconda-cloud": {},
  "kernelspec": {
   "display_name": "Python [default]",
   "language": "python",
   "name": "python3"
  },
  "language_info": {
   "codemirror_mode": {
    "name": "ipython",
    "version": 3
   },
   "file_extension": ".py",
   "mimetype": "text/x-python",
   "name": "python",
   "nbconvert_exporter": "python",
   "pygments_lexer": "ipython3",
   "version": "3.5.2"
  }
 },
 "nbformat": 4,
 "nbformat_minor": 1
}
